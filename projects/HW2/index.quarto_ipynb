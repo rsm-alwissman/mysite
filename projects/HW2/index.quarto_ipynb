{
  "cells": [
    {
      "cell_type": "markdown",
      "metadata": {},
      "source": [
        "---\n",
        "title: \"Homework 2: Poisson Regression Examples\"\n",
        "author: \"Alex Wissman\"\n",
        "date: today\n",
        "callout-appearance: minimal # this hides the blue \"i\" icon on .callout-notes\n",
        "---\n",
        "\n",
        "\n",
        "## Blueprinty Case Study\n",
        "\n",
        "### Introduction\n",
        "\n",
        "Blueprinty is a small firm that makes software for developing blueprints specifically for submitting patent applications to the US patent office. Their marketing team would like to make the claim that patent applicants using Blueprinty's software are more successful in getting their patent applications approved. Ideal data to study such an effect might include the success rate of patent applications before using Blueprinty's software and after using it. Unfortunately, such data is not available. \n",
        "\n",
        "However, Blueprinty has collected data on 1,500 mature (non-startup) engineering firms. The data include each firm's number of patents awarded over the last 5 years, regional location, age since incorporation, and whether or not the firm uses Blueprinty's software. The marketing team would like to use this data to make the claim that firms using Blueprinty's software are more successful in getting their patent applications approved.\n",
        "\n",
        "\n",
        "### Data"
      ],
      "id": "0406ffe6"
    },
    {
      "cell_type": "code",
      "metadata": {},
      "source": [
        "import pandas as pd\n",
        "\n",
        "# Load the datasets\n",
        "airbnb_data = pd.read_csv('/home/jovyan/mysite/airbnb.csv')\n",
        "blueprinty_data = pd.read_csv('/home/jovyan/mysite/blueprinty.csv')\n",
        "\n",
        "# Display the first few rows of each dataset\n",
        "airbnb_data.head(), blueprinty_data.head()"
      ],
      "id": "52d1b7c8",
      "execution_count": null,
      "outputs": []
    }
  ],
  "metadata": {
    "kernelspec": {
      "name": "myenv",
      "language": "python",
      "display_name": "myenv",
      "path": "/home/jovyan/.rsm-msba/share/jupyter/kernels/myenv"
    }
  },
  "nbformat": 4,
  "nbformat_minor": 5
}