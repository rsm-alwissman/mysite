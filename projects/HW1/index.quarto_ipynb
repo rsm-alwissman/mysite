{
  "cells": [
    {
      "cell_type": "markdown",
      "metadata": {},
      "source": [
        "---\n",
        "title: \"Homework 1\"\n",
        "author: \"Alex Wissman\"\n",
        "---\n",
        "\n",
        "# Question 1\n",
        "\n",
        "Prof says make a chart.\n"
      ],
      "id": "c911f721"
    },
    {
      "cell_type": "code",
      "metadata": {},
      "source": [
        "x=5\n",
        "print(x)"
      ],
      "id": "21515d21",
      "execution_count": null,
      "outputs": []
    }
  ],
  "metadata": {
    "kernelspec": {
      "display_name": "Python 3",
      "language": "python",
      "name": "python3"
    }
  },
  "nbformat": 4,
  "nbformat_minor": 5
}