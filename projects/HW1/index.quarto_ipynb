{
  "cells": [
    {
      "cell_type": "markdown",
      "metadata": {},
      "source": [
        "---\n",
        "title: \"Homework 1: A Replication of Karlan and List (2007)\"\n",
        "author: \"Alex Wissman\"\n",
        "date: today\n",
        "callout-appearance: minimal # this hides the blue \"i\" icon on .callout-notes\n",
        "---\n",
        "\n",
        "\n",
        "## Introduction\n",
        "\n",
        "Dean Karlan at Yale and John List at the University of Chicago conducted a field experiment to test the effectiveness of different fundraising letters. They sent out 50,000 fundraising letters to potential donors, randomly assigning each letter to one of three treatments: a standard letter, a matching grant letter, or a challenge grant letter. They published the results of this experiment in the _American Economic Review_ in 2007. The article and supporting data are available from the [AEA website](https://www.aeaweb.org/articles?id=10.1257/aer.97.5.1774) and from Innovations for Poverty Action as part of [Harvard's Dataverse](https://dataverse.harvard.edu/dataset.xhtml?persistentId=doi:10.7910/DVN/27853&version=4.2).\n",
        "\n",
        "By comparing the response rates and donation amounts across the three groups, Karlan and List were able to isolate the causal effect of different fundraising strategies on donor behavior. Their findings showed that matching grants significantly increased both the likelihood of giving and the average donation amount.\n",
        "\n",
        "This project seeks to replicate their results.\n",
        "\n",
        "\n",
        "## Data\n",
        "\n",
        "### Description"
      ],
      "id": "b5b53b8c"
    },
    {
      "cell_type": "code",
      "metadata": {},
      "source": [
        "import pandas as pd\n",
        "import scipy as sp\n",
        "import numpy as np\n",
        "import statsmodels.api as sm\n",
        "import pyrsm as rsm\n",
        "import matplotlib.pyplot as plt\n",
        "\n",
        "# Load the data\n",
        "dataf = pd.read_stata(\"/home/jovyan/mysite/karlan_list_2007.dta\")\n",
        "\n",
        "# Display the first few rows of the dataset\n",
        "print(dataf.head())"
      ],
      "id": "1b61d125",
      "execution_count": null,
      "outputs": []
    },
    {
      "cell_type": "markdown",
      "metadata": {},
      "source": [
        ":::: {.callout-note collapse=\"true\"}\n",
        "### Variable Definitions\n",
        "\n",
        "| Variable             | Description                                                         |\n",
        "|----------------------|---------------------------------------------------------------------|\n",
        "| `treatment`          | Treatment                                                           |\n",
        "| `control`            | Control                                                             |\n",
        "| `ratio`              | Match ratio                                                         |\n",
        "| `ratio2`             | 2:1 match ratio                                                     |\n",
        "| `ratio3`             | 3:1 match ratio                                                     |\n",
        "| `size`               | Match threshold                                                     |\n",
        "| `size25`             | \\$25,000 match threshold                                            |\n",
        "| `size50`             | \\$50,000 match threshold                                            |\n",
        "| `size100`            | \\$100,000 match threshold                                           |\n",
        "| `sizeno`             | Unstated match threshold                                            |\n",
        "| `ask`                | Suggested donation amount                                           |\n",
        "| `askd1`              | Suggested donation was highest previous contribution                |\n",
        "| `askd2`              | Suggested donation was 1.25 x highest previous contribution         |\n",
        "| `askd3`              | Suggested donation was 1.50 x highest previous contribution         |\n",
        "| `ask1`               | Highest previous contribution (for suggestion)                      |\n",
        "| `ask2`               | 1.25 x highest previous contribution (for suggestion)               |\n",
        "| `ask3`               | 1.50 x highest previous contribution (for suggestion)               |\n",
        "| `amount`             | Dollars given                                                       |\n",
        "| `gave`               | Gave anything                                                       |\n",
        "| `amountchange`       | Change in amount given                                              |\n",
        "| `hpa`                | Highest previous contribution                                       |\n",
        "| `ltmedmra`           | Small prior donor: last gift was less than median \\$35              |\n",
        "| `freq`               | Number of prior donations                                           |\n",
        "| `years`              | Number of years since initial donation                              |\n",
        "| `year5`              | At least 5 years since initial donation                             |\n",
        "| `mrm2`               | Number of months since last donation                                |\n",
        "| `dormant`            | Already donated in 2005                                             |\n",
        "| `female`             | Female                                                              |\n",
        "| `couple`             | Couple                                                              |\n",
        "| `state50one`         | State tag: 1 for one observation of each of 50 states; 0 otherwise  |\n",
        "| `nonlit`             | Nonlitigation                                                       |\n",
        "| `cases`              | Court cases from state in 2004-5 in which organization was involved |\n",
        "| `statecnt`           | Percent of sample from state                                        |\n",
        "| `stateresponse`      | Proportion of sample from the state who gave                        |\n",
        "| `stateresponset`     | Proportion of treated sample from the state who gave                |\n",
        "| `stateresponsec`     | Proportion of control sample from the state who gave                |\n",
        "| `stateresponsetminc` | stateresponset - stateresponsec                                     |\n",
        "| `perbush`            | State vote share for Bush                                           |\n",
        "| `close25`            | State vote share for Bush between 47.5% and 52.5%                   |\n",
        "| `red0`               | Red state                                                           |\n",
        "| `blue0`              | Blue state                                                          |\n",
        "| `redcty`             | Red county                                                          |\n",
        "| `bluecty`            | Blue county                                                         |\n",
        "| `pwhite`             | Proportion white within zip code                                    |\n",
        "| `pblack`             | Proportion black within zip code                                    |\n",
        "| `page18_39`          | Proportion age 18-39 within zip code                                |\n",
        "| `ave_hh_sz`          | Average household size within zip code                              |\n",
        "| `median_hhincome`    | Median household income within zip code                             |\n",
        "| `powner`             | Proportion house owner within zip code                              |\n",
        "| `psch_atlstba`       | Proportion who finished college within zip code                     |\n",
        "| `pop_propurban`      | Proportion of population urban within zip code                      |\n",
        "\n",
        "::::\n",
        "\n",
        "\n",
        "### Balance Test \n",
        "\n",
        "As an ad hoc test of the randomization mechanism, I provide a series of tests that compare aspects of the treatment and control groups to assess whether they are statistically significantly different from one another."
      ],
      "id": "4eaf8917"
    },
    {
      "cell_type": "code",
      "metadata": {},
      "source": [
        "# The following is a t-test of months since last donation to evaluate the difference between the treatment and control groups.\n",
        "from scipy.stats import ttest_ind\n",
        "\n",
        "# Filter the data for treatment and control groups\n",
        "treatment_group = dataf[dataf['treatment'] == 1]['mrm2'].dropna()\n",
        "control_group = dataf[dataf['control'] == 1]['mrm2'].dropna()\n",
        "\n",
        "# Perform the t-test\n",
        "t_stat, p_value = ttest_ind(treatment_group, control_group, equal_var=False)\n",
        "\n",
        "# Check if the difference is statistically significant\n",
        "if p_value < 0.05:\n",
        "    print(f\"The groups are significantly different (t={t_stat:.2f}, p={p_value:.4f}).\")\n",
        "else:\n",
        "    print(f\"The groups are not significantly different (t={t_stat:.2f}, p={p_value:.4f}).\")"
      ],
      "id": "c97e677c",
      "execution_count": null,
      "outputs": []
    },
    {
      "cell_type": "code",
      "metadata": {},
      "source": [
        "import pyrsm as rsm\n",
        "\n",
        "reg1 = rsm.model.regress({\"dataf\": dataf}, rvar=\"mrm2\", evar=[\"treatment\"])\n",
        "reg1.summary()"
      ],
      "id": "b71de830",
      "execution_count": null,
      "outputs": []
    },
    {
      "cell_type": "markdown",
      "metadata": {},
      "source": [
        "Note: the same p-value is observed between the two statistical tests.\n",
        "Both results yield a p-value that indicates there is not a statistically significant difference between treatment and control at the 95% confidence level.\n",
        "\n",
        "## Experimental Results\n",
        "\n",
        "### Charitable Contribution Made\n",
        "\n",
        "First, I analyze whether matched donations lead to an increased response rate of making a donation. "
      ],
      "id": "23d1518f"
    },
    {
      "cell_type": "code",
      "metadata": {},
      "source": [
        "import matplotlib.pyplot as plt\n",
        "# Calculate the proportion of people who donated in each group\n",
        "treatment_donated_proportion = dataf[dataf['treatment'] == 1]['gave'].mean()\n",
        "control_donated_proportion = dataf[dataf['control'] == 1]['gave'].mean()\n",
        "\n",
        "# Create a barplot\n",
        "bars = plt.bar(['Treatment', 'Control'], [treatment_donated_proportion, control_donated_proportion], color=['blue', 'orange'])\n",
        "\n",
        "# Add labels to show the values for each bar\n",
        "for bar in bars:\n",
        "    height = bar.get_height()\n",
        "    plt.text(bar.get_x() + bar.get_width() / 2, height, f'{height:.4f}', ha='center', va='bottom')\n",
        "\n",
        "plt.ylabel('Proportion of People Who Donated')\n",
        "plt.title('Proportion of People Who Donated by Group')\n",
        "plt.show()"
      ],
      "id": "70382727",
      "execution_count": null,
      "outputs": []
    },
    {
      "cell_type": "markdown",
      "metadata": {},
      "source": [
        "In the following code, I perform a t-test between the treatment and control groups on the binary outcome of whether any charitable donation was made."
      ],
      "id": "9b3f2e96"
    },
    {
      "cell_type": "code",
      "metadata": {},
      "source": [
        "treatment_gave = dataf[dataf['treatment'] == 1]['gave']\n",
        "control_gave = dataf[dataf['control'] == 1]['gave']\n",
        "\n",
        "t_stat_gave, p_value_gave = ttest_ind(treatment_gave, control_gave, equal_var=False)\n",
        "\n",
        "if p_value_gave < 0.05:\n",
        "    print(f\"The groups are significantly different (t={t_stat_gave:.2f}, p={p_value_gave:.4f}).\")\n",
        "else:\n",
        "    print(f\"The groups are not significantly different (t={t_stat_gave:.2f}, p={p_value_gave:.4f}).\")"
      ],
      "id": "733d4415",
      "execution_count": null,
      "outputs": []
    },
    {
      "cell_type": "markdown",
      "metadata": {},
      "source": [
        "We found a statistically significant difference between the two groups in our experiment. The difference was strong enough that it's very unlikely to have occurred by random chance alone. Based on these results., we find that the treatment had a meaningful impact on donation rates.\n",
        "\n",
        "The following is a probit regression on donation outcome based on treatment/control assignment."
      ],
      "id": "0ecd4286"
    },
    {
      "cell_type": "code",
      "metadata": {},
      "source": [
        "import statsmodels.api as sm\n",
        "\n",
        "# Define the outcome variable (gave) and the explanatory variable (treatment)\n",
        "dataf['intercept'] = 1  # Add an intercept for the regression\n",
        "explanatory_vars = ['treatment', 'intercept']\n",
        "outcome_var = 'gave'\n",
        "\n",
        "# Fit the probit model\n",
        "probit_model = sm.Probit(dataf[outcome_var], dataf[explanatory_vars])\n",
        "probit_results = probit_model.fit()\n",
        "\n",
        "# Print the summary of the regression results\n",
        "print(probit_results.summary())"
      ],
      "id": "9fb8fd2a",
      "execution_count": null,
      "outputs": []
    },
    {
      "cell_type": "markdown",
      "metadata": {},
      "source": [
        "### Differences between Match Rates\n",
        "\n",
        "Next, I assess the effectiveness of different sizes of matched donations on the response rate."
      ],
      "id": "33baebea"
    },
    {
      "cell_type": "code",
      "metadata": {},
      "source": [
        "# Filter the data for treatment group\n",
        "treatment_data = dataf[dataf['treatment'] == 1]\n",
        "\n",
        "# Define the match ratio columns to test\n",
        "match_ratios = ['ratio', 'ratio2', 'ratio3']\n",
        "\n",
        "# Perform t-tests for each match ratio\n",
        "for ratio in match_ratios:\n",
        "    # Ensure the column is numeric\n",
        "    treatment_data[ratio] = pd.to_numeric(treatment_data[ratio], errors='coerce')\n",
        "    \n",
        "    # Separate the groups based on whether 'gave' is 1 or 0\n",
        "    gave_1 = treatment_data[treatment_data['gave'] == 1][ratio].dropna()\n",
        "    gave_0 = treatment_data[treatment_data['gave'] == 0][ratio].dropna()\n",
        "    \n",
        "    # Perform the t-test\n",
        "    t_stat, p_value = ttest_ind(gave_1, gave_0, equal_var=False)\n",
        "    \n",
        "    # Print the results\n",
        "    print(f\"T-test for {ratio}: t-statistic = {t_stat:.2f}, p-value = {p_value:.4f}\")\n",
        "    if p_value < 0.05:\n",
        "        print(f\"  The match ratio '{ratio}' has a significant effect on donation behavior.\")\n",
        "    else:\n",
        "        print(f\"  The match ratio '{ratio}' does not have a significant effect on donation behavior.\")"
      ],
      "id": "36dd1a89",
      "execution_count": null,
      "outputs": []
    },
    {
      "cell_type": "markdown",
      "metadata": {},
      "source": [
        "These results support the \"figures suggest\" comment the authors make. We do not find that match threshold had a meaningful influence on behavior.\n"
      ],
      "id": "94a7e3ae"
    },
    {
      "cell_type": "code",
      "metadata": {},
      "source": [
        "import statsmodels.api as sm\n",
        "\n",
        "# Create the variable 'ratio1'\n",
        "dataf['ratio1'] = dataf['ratio'].apply(lambda x: 1 if x == 1 else 0)\n",
        "\n",
        "# Define the explanatory variables and the outcome variable\n",
        "explanatory_vars = ['ratio1', 'ratio2', 'ratio3', 'intercept']\n",
        "outcome_var = 'gave'\n",
        "\n",
        "# Drop rows with missing or infinite values in the explanatory variables\n",
        "dataf_cleaned = dataf[explanatory_vars + [outcome_var]].replace([np.inf, -np.inf], np.nan).dropna()\n",
        "\n",
        "# Fit the regression model\n",
        "regression_model = sm.Logit(dataf_cleaned[outcome_var], dataf_cleaned[explanatory_vars])\n",
        "regression_results = regression_model.fit()\n",
        "\n",
        "# Print the summary of the regression results\n",
        "print(regression_results.summary())"
      ],
      "id": "38a10ced",
      "execution_count": null,
      "outputs": []
    },
    {
      "cell_type": "markdown",
      "metadata": {},
      "source": [
        "These results support the same findings that ratio levels do not influence donation behavior.\n",
        "\n",
        "_todo: Assess the same issue using a regression. Specifically, create the variable `ratio1` then regress `gave` on `ratio1`, `ratio2`, and `ratio3` (or alternatively, regress `gave` on the categorical variable `ratio`). Interpret the coefficients and their statistical precision._"
      ],
      "id": "ed70899f"
    },
    {
      "cell_type": "code",
      "metadata": {},
      "source": [
        "# Directly from the data\n",
        "response_rate_1_1 = dataf[dataf['ratio'] == 1]['gave'].mean()\n",
        "response_rate_2_1 = dataf[dataf['ratio'] == 2]['gave'].mean()\n",
        "response_rate_3_1 = dataf[dataf['ratio'] == 3]['gave'].mean()\n",
        "\n",
        "# Calculate the differences in response rates\n",
        "diff_1_1_2_1 = response_rate_2_1 - response_rate_1_1\n",
        "diff_2_1_3_1 = response_rate_3_1 - response_rate_2_1\n",
        "\n",
        "print(f\"Response rate difference (1:1 vs 2:1): {diff_1_1_2_1:.4f}\")\n",
        "print(f\"Response rate difference (2:1 vs 3:1): {diff_2_1_3_1:.4f}\")\n",
        "\n",
        "# Using the fitted coefficients\n",
        "coef_ratio2 = regression_results.params['ratio2']\n",
        "coef_ratio3 = regression_results.params['ratio3']\n",
        "\n",
        "# Calculate the differences in coefficients\n",
        "diff_coef_1_1_2_1 = coef_ratio2\n",
        "diff_coef_2_1_3_1 = coef_ratio3 - coef_ratio2\n",
        "\n",
        "print(f\"Coefficient difference (1:1 vs 2:1): {diff_coef_1_1_2_1:.4f}\")\n",
        "print(f\"Coefficient difference (2:1 vs 3:1): {diff_coef_2_1_3_1:.4f}\")"
      ],
      "id": "8f41453f",
      "execution_count": null,
      "outputs": []
    },
    {
      "cell_type": "markdown",
      "metadata": {},
      "source": [
        "Conclusion: Regarding the effectiveness of different sizes of matched donations, the findings suggest that there is a larger difference in coefficients between 1:1 matching and 2:1 matching compared to the difference between 2:1 matching and 3:1 matching. This indicates that increasing the match size from 1:1 to 2:1 has a more pronounced effect on donation behavior than increasing it from 2:1 to 3:1.\n",
        "\n",
        "### Size of Charitable Contribution\n",
        "\n",
        "In this subsection, I analyze the effect of the size of matched donation on the size of the charitable contribution."
      ],
      "id": "adb811c8"
    },
    {
      "cell_type": "code",
      "metadata": {},
      "source": [
        "from scipy.stats import ttest_ind\n",
        "\n",
        "import statsmodels.api as sm\n",
        "\n",
        "# Filter the data for non-missing donation amounts\n",
        "dataf_filtered = dataf.dropna(subset=['amount'])\n",
        "\n",
        "# Separate the donation amounts by treatment status\n",
        "treatment_amount = dataf_filtered[dataf_filtered['treatment'] == 1]['amount']\n",
        "control_amount = dataf_filtered[dataf_filtered['control'] == 1]['amount']\n",
        "\n",
        "# Perform a t-test\n",
        "t_stat_amount, p_value_amount = ttest_ind(treatment_amount, control_amount, equal_var=False)\n",
        "print(f\"T-test results: t-statistic = {t_stat_amount:.2f}, p-value = {p_value_amount:.4f}\")\n",
        "\n",
        "# Prepare data for regression\n",
        "dataf_filtered['intercept'] = 1  # Add intercept\n",
        "X = dataf_filtered[['treatment', 'intercept']]\n",
        "y = dataf_filtered['amount']\n",
        "\n",
        "# Fit a bivariate linear regression model\n",
        "regression_model_amount = sm.OLS(y, X).fit()\n",
        "\n",
        "# Print the regression summary\n",
        "print(regression_model_amount.summary())"
      ],
      "id": "1242bd2c",
      "execution_count": null,
      "outputs": []
    },
    {
      "cell_type": "markdown",
      "metadata": {},
      "source": [
        "The analysis indicates that the treatment did not produce a statistically significant impact on the amount donated."
      ],
      "id": "2a9a07a3"
    },
    {
      "cell_type": "code",
      "metadata": {},
      "source": [
        "dataf_positive_amount = dataf[dataf['amount'] > 0]\n",
        "reg1 = rsm.model.regress({\"dataf_positive_amount\": dataf_positive_amount}, rvar=\"amount\", evar=[\"treatment\"])\n",
        "reg1.summary()"
      ],
      "id": "c41e8c09",
      "execution_count": null,
      "outputs": []
    },
    {
      "cell_type": "markdown",
      "metadata": {},
      "source": [
        "Histogram plots of the donation amounts only among people who donated:"
      ],
      "id": "3c98f802"
    },
    {
      "cell_type": "code",
      "metadata": {},
      "source": [
        "import matplotlib.pyplot as plt\n",
        "\n",
        "# Filter donation amounts for people who donated in each group\n",
        "treatment_donations = treatment_amount[treatment_amount > 0]\n",
        "control_donations = control_amount[control_amount > 0]\n",
        "\n",
        "# Calculate the sample averages\n",
        "treatment_avg = treatment_donations.mean()\n",
        "control_avg = control_donations.mean()\n",
        "\n",
        "# Create the histograms\n",
        "fig, axes = plt.subplots(1, 2, figsize=(12, 6), sharey=True)\n",
        "\n",
        "# Treatment group histogram\n",
        "axes[0].hist(treatment_donations, bins=30, color='blue', alpha=0.7, edgecolor='black')\n",
        "axes[0].axvline(treatment_avg, color='red', linestyle='dashed', linewidth=2, label=f'Avg: {treatment_avg:.2f}')\n",
        "axes[0].set_title('Treatment Group Donations')\n",
        "axes[0].set_xlabel('Donation Amount')\n",
        "axes[0].set_ylabel('Frequency')\n",
        "axes[0].legend()\n",
        "\n",
        "# Control group histogram\n",
        "axes[1].hist(control_donations, bins=30, color='green', alpha=0.7, edgecolor='black')\n",
        "axes[1].axvline(control_avg, color='red', linestyle='dashed', linewidth=2, label=f'Avg: {control_avg:.2f}')\n",
        "axes[1].set_title('Control Group Donations')\n",
        "axes[1].set_xlabel('Donation Amount')\n",
        "axes[1].legend()\n",
        "\n",
        "plt.tight_layout()\n",
        "plt.show()"
      ],
      "id": "cdc9654f",
      "execution_count": null,
      "outputs": []
    },
    {
      "cell_type": "markdown",
      "metadata": {},
      "source": [
        "## Simulation Experiment\n",
        "\n",
        "As a reminder of how the t-statistic \"works,\" in this section I use simulation to demonstrate the Law of Large Numbers and the Central Limit Theorem.\n",
        "\n",
        "Suppose the true distribution of respondents who do not get a charitable donation match is Bernoulli with probability p=0.018 that a donation is made. \n",
        "\n",
        "Further suppose that the true distribution of respondents who do get a charitable donation match of any size is Bernoulli with probability p=0.022 that a donation is made.\n",
        "\n",
        "### Law of Large Numbers"
      ],
      "id": "89e2d7eb"
    },
    {
      "cell_type": "code",
      "metadata": {},
      "source": [
        "# Set the probabilities for control and treatment groups\n",
        "p_control = 0.018\n",
        "p_treatment = 0.022\n",
        "\n",
        "# Simulate 10,000 draws from the Bernoulli distributions\n",
        "control_draws = np.random.binomial(1, p_control, 10000)\n",
        "treatment_draws = np.random.binomial(1, p_treatment, 10000)\n",
        "\n",
        "# Calculate the vector of differences\n",
        "differences = treatment_draws - control_draws\n",
        "\n",
        "# Calculate the cumulative average of the differences\n",
        "cumulative_avg = np.cumsum(differences) / np.arange(1, len(differences) + 1)\n",
        "\n",
        "# Plot the cumulative average\n",
        "plt.figure(figsize=(10, 6))\n",
        "plt.plot(cumulative_avg, label='Cumulative Average of Differences', color='blue')\n",
        "plt.axhline(0, color='red', linestyle='--', label='Zero Line')\n",
        "plt.xlabel('Number of Simulations')\n",
        "plt.ylabel('Cumulative Average')\n",
        "plt.title('Cumulative Average of Differences Between Treatment and Control')\n",
        "plt.legend()\n",
        "plt.grid()\n",
        "plt.show()"
      ],
      "id": "a5baa864",
      "execution_count": null,
      "outputs": []
    },
    {
      "cell_type": "markdown",
      "metadata": {},
      "source": [
        "The chart illustrates the cumulative average of the differences between the treatment and control groups over 10,000 simulations. Initially, when only a few numbers are averaged, the cumulative average is \"noisy\" and fluctuates significantly due to the small sample size. However, as the sample size increases, the cumulative average begins to stabilize and converge toward the true treatment effect, which is approximately 0.004 (calculated as 0.022 - 0.018). This behavior demonstrates the law of large numbers, where larger sample sizes reduce variability and provide a more accurate estimate of the true effect. The red dashed line at zero serves as a reference point, highlighting the positive treatment effect as the cumulative average settles above this line.\n",
        "\n",
        "### Central Limit Theorem"
      ],
      "id": "f7850773"
    },
    {
      "cell_type": "code",
      "metadata": {},
      "source": [
        "# Set the probabilities for control and treatment groups\n",
        "p_control = 0.018\n",
        "p_treatment = 0.022\n",
        "\n",
        "# Define sample sizes\n",
        "sample_sizes = [50, 200, 500, 1000]\n",
        "\n",
        "# Create subplots\n",
        "fig, axes = plt.subplots(2, 2, figsize=(12, 10))\n",
        "axes = axes.flatten()\n",
        "\n",
        "# Generate histograms for each sample size\n",
        "for i, sample_size in enumerate(sample_sizes):\n",
        "    avg_differences = []\n",
        "    for _ in range(1000):\n",
        "        control_sample = np.random.binomial(1, p_control, sample_size)\n",
        "        treatment_sample = np.random.binomial(1, p_treatment, sample_size)\n",
        "        avg_difference = treatment_sample.mean() - control_sample.mean()\n",
        "        avg_differences.append(avg_difference)\n",
        "    \n",
        "    # Plot the histogram\n",
        "    axes[i].hist(avg_differences, bins=30, color='blue', alpha=0.7, edgecolor='black')\n",
        "    axes[i].set_title(f'Sample Size: {sample_size}')\n",
        "    axes[i].set_xlabel('Average Difference')\n",
        "    axes[i].set_ylabel('Frequency')\n",
        "\n",
        "plt.tight_layout()\n",
        "plt.show()"
      ],
      "id": "3bb04434",
      "execution_count": null,
      "outputs": []
    },
    {
      "cell_type": "markdown",
      "metadata": {},
      "source": [
        "The histograms illustrate the Central Limit Theorem (CLT): as sample size increases (50, 200, 500, 1000), the sampling distribution of the sample mean becomes smoother and more symmetric, converging toward a normal distribution. Larger sample sizes reduce variability and provide more precise estimates of the true mean."
      ],
      "id": "a812f79a"
    }
  ],
  "metadata": {
    "kernelspec": {
      "name": "myenv",
      "language": "python",
      "display_name": "myenv",
      "path": "/home/jovyan/.rsm-msba/share/jupyter/kernels/myenv"
    }
  },
  "nbformat": 4,
  "nbformat_minor": 5
}